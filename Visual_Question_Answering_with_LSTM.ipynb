{
  "cells": [
    {
      "cell_type": "code",
      "execution_count": 1,
      "metadata": {
        "colab": {
          "base_uri": "https://localhost:8080/",
          "height": 36
        },
        "id": "r28EQmWrVj9T",
        "outputId": "60fbf092-d1ac-4e9b-c94f-83d32363239f"
      },
      "outputs": [
        {
          "output_type": "execute_result",
          "data": {
            "text/plain": [
              "'2.12.0'"
            ],
            "application/vnd.google.colaboratory.intrinsic+json": {
              "type": "string"
            }
          },
          "metadata": {},
          "execution_count": 1
        }
      ],
      "source": [
        "import keras\n",
        "keras.__version__"
      ],
      "id": "r28EQmWrVj9T"
    },
    {
      "cell_type": "code",
      "execution_count": 2,
      "metadata": {
        "id": "f864ba98"
      },
      "outputs": [],
      "source": [
        "import numpy as np\n",
        "import argparse\n",
        "import sys\n",
        "import pandas as pd\n",
        "import operator\n",
        "import scipy as sc\n",
        "from collections import defaultdict\n",
        "from nltk import word_tokenize\n",
        "from tensorflow.keras.preprocessing.sequence import pad_sequences\n",
        "from keras.models import Sequential\n",
        "from keras.layers import Dense, Embedding, LSTM, Concatenate, Reshape, Dropout, Conv2D, MaxPooling2D, ZeroPadding2D, Flatten, Input\n",
        "from keras import backend as K\n",
        "import h5py\n",
        "import pickle"
      ],
      "id": "f864ba98"
    },
    {
      "cell_type": "code",
      "execution_count": 3,
      "metadata": {
        "colab": {
          "base_uri": "https://localhost:8080/"
        },
        "id": "TJgGyDjAoWgO",
        "outputId": "4893e815-4c32-409d-93e7-681853109264"
      },
      "outputs": [
        {
          "output_type": "stream",
          "name": "stdout",
          "text": [
            "2.12.0\n",
            "[PhysicalDevice(name='/physical_device:GPU:0', device_type='GPU')]\n"
          ]
        }
      ],
      "source": [
        "# import TensorFlow\n",
        "import tensorflow as tf\n",
        "\n",
        "#Check the version of TensorFlow you are using\n",
        "print(tf.__version__)\n",
        "print(tf.config.list_physical_devices('GPU'))"
      ],
      "id": "TJgGyDjAoWgO"
    },
    {
      "cell_type": "code",
      "execution_count": null,
      "metadata": {
        "colab": {
          "base_uri": "https://localhost:8080/"
        },
        "id": "ruuRDRGFpCZA",
        "outputId": "33ff63cc-2b36-4ec8-fe22-f0231b412ef6"
      },
      "outputs": [
        {
          "name": "stdout",
          "output_type": "stream",
          "text": [
            "[name: \"/device:CPU:0\"\n",
            "device_type: \"CPU\"\n",
            "memory_limit: 268435456\n",
            "locality {\n",
            "}\n",
            "incarnation: 13456967478485216566\n",
            "xla_global_id: -1\n",
            ", name: \"/device:GPU:0\"\n",
            "device_type: \"GPU\"\n",
            "memory_limit: 40146370560\n",
            "locality {\n",
            "  bus_id: 1\n",
            "  links {\n",
            "  }\n",
            "}\n",
            "incarnation: 4505611242623243986\n",
            "physical_device_desc: \"device: 0, name: NVIDIA A100-SXM4-40GB, pci bus id: 0000:00:04.0, compute capability: 8.0\"\n",
            "xla_global_id: 416903419\n",
            "]\n"
          ]
        }
      ],
      "source": [
        "from tensorflow.python.client import device_lib\n",
        "print(device_lib.list_local_devices())"
      ],
      "id": "ruuRDRGFpCZA"
    },
    {
      "cell_type": "code",
      "execution_count": 4,
      "metadata": {
        "colab": {
          "base_uri": "https://localhost:8080/"
        },
        "id": "4T4JAGhTyJmQ",
        "outputId": "ae7cd1f1-a43b-4c90-c8bd-c5385f44d5b4"
      },
      "outputs": [
        {
          "output_type": "stream",
          "name": "stderr",
          "text": [
            "[nltk_data] Downloading package punkt to /root/nltk_data...\n",
            "[nltk_data]   Unzipping tokenizers/punkt.zip.\n"
          ]
        },
        {
          "output_type": "execute_result",
          "data": {
            "text/plain": [
              "True"
            ]
          },
          "metadata": {},
          "execution_count": 4
        }
      ],
      "source": [
        "import nltk\n",
        "nltk.download('punkt')"
      ],
      "id": "4T4JAGhTyJmQ"
    },
    {
      "cell_type": "code",
      "execution_count": 5,
      "metadata": {
        "colab": {
          "base_uri": "https://localhost:8080/"
        },
        "id": "hpRJ9UKCwSu7",
        "outputId": "3cc59a97-18b7-47e3-fc72-615ad00de16b"
      },
      "outputs": [
        {
          "output_type": "stream",
          "name": "stdout",
          "text": [
            "Mounted at /content/drive\n"
          ]
        }
      ],
      "source": [
        "in_colab = False\n",
        "try:\n",
        "    from google.colab import drive\n",
        "    drive.mount('/content/drive')\n",
        "    in_colab = True\n",
        "except:\n",
        "    pass"
      ],
      "id": "hpRJ9UKCwSu7"
    },
    {
      "cell_type": "code",
      "execution_count": 6,
      "metadata": {
        "id": "423ffbd3"
      },
      "outputs": [],
      "source": [
        "def load():\n",
        "    path = '/content/drive/My Drive/VQA/embeddings/embedding_matrix.h5'\n",
        "    with h5py.File(path,'r') as hf:\n",
        "        data = hf.get('embedding_matrix')\n",
        "        embedding_matrix = np.array(data)\n",
        "    return embedding_matrix"
      ],
      "id": "423ffbd3"
    },
    {
      "cell_type": "code",
      "execution_count": 7,
      "metadata": {
        "id": "fd6f541d"
      },
      "outputs": [],
      "source": [
        "def load_idx():\n",
        "    path = '/content/drive/My Drive/VQA/embeddings/word_idx'\n",
        "    with open(path,'rb') as file:\n",
        "        word_idx = pickle.load(file, encoding=\"latin1\")\n",
        "    return word_idx"
      ],
      "id": "fd6f541d"
    },
    {
      "cell_type": "code",
      "execution_count": 8,
      "metadata": {
        "id": "854694a1"
      },
      "outputs": [],
      "source": [
        "def create(glove_path):\n",
        "    embedding_matrix_path = '/content/drive/My Drive/VQA/embeddings/embedding_matrix.h5'\n",
        "    word_idx_path = '/content/drive/My Drive/VQA/embeddings/word_idx'\n",
        "    embeddings = {}\n",
        "    word_idx = {}\n",
        "\n",
        "    with open(glove_path,'r') as f:\n",
        "        for i, line in enumerate(f):\n",
        "            values = line.split()\n",
        "            word = values[0]\n",
        "            coefs = np.asarray(values[1:],dtype='float32')\n",
        "            embeddings[word] = coefs\n",
        "            word_idx[word] = i+1\n",
        "\n",
        "    num_words = len(word_idx)\n",
        "    embedding_matrix = np.zeros((1+num_words,300))\n",
        "\n",
        "    for i, word in enumerate(word_idx.keys()):\n",
        "        embedding_matrix[i+1] = embeddings[word]\n",
        "\n",
        "    with h5py.File(embedding_matrix_path, 'w') as hf:\n",
        "        hf.create_dataset('embedding_matrix',data=embedding_matrix)\n",
        "\n",
        "    with open(word_idx_path,'w') as f:\n",
        "        pickle.dump(word_idx,f)"
      ],
      "id": "854694a1"
    },
    {
      "cell_type": "code",
      "execution_count": 9,
      "metadata": {
        "id": "1f4a2cee"
      },
      "outputs": [],
      "source": [
        "#parser = argparse.ArgumentParser()\n",
        "#parser.add_argument('-address', type=str, required=True)\n",
        "#args = parser.parse_args()\n",
        "#print('Preparing embeddings ...')\n",
        "#create(args.address)"
      ],
      "id": "1f4a2cee"
    },
    {
      "cell_type": "code",
      "execution_count": 10,
      "metadata": {
        "id": "e93d6926"
      },
      "outputs": [],
      "source": [
        "def int_to_answers(data_path):\n",
        "    df = pd.read_pickle(data_path)\n",
        "    answers = df[['multiple_choice_answer']].values.tolist()\n",
        "    freq = defaultdict(int)\n",
        "    for answer in answers:\n",
        "        freq[answer[0].lower()] += 1\n",
        "    int_to_answer = sorted(freq.items(),key=operator.itemgetter(1),reverse=True)[0:1000]\n",
        "    int_to_answer = [answer[0] for answer in int_to_answer]\n",
        "    return int_to_answer"
      ],
      "id": "e93d6926"
    },
    {
      "cell_type": "code",
      "execution_count": 11,
      "metadata": {
        "id": "0a669b0f"
      },
      "outputs": [],
      "source": [
        "def answers_to_onehot(data_path):\n",
        "    top_answers = int_to_answers(data_path)\n",
        "    answer_to_onehot = {}\n",
        "    for i, word in enumerate(top_answers):\n",
        "        onehot = np.zeros(1001)\n",
        "        onehot[i] = 1.0\n",
        "        answer_to_onehot[word] = onehot\n",
        "    return answer_to_onehot"
      ],
      "id": "0a669b0f"
    },
    {
      "cell_type": "code",
      "execution_count": 12,
      "metadata": {
        "id": "d22dbd63"
      },
      "outputs": [],
      "source": [
        "def get_answers_matrix(data_path):\n",
        "    df = pd.read_pickle(data_path)\n",
        "    answers = df[['multiple_choice_answer']].values.tolist()\n",
        "    answer_matrix = np.zeros((len(answers),1001))\n",
        "    default_onehot = np.zeros(1001)\n",
        "    default_onehot[1000] = 1.0\n",
        "\n",
        "    for i, answer in enumerate(answers):\n",
        "        answer_matrix[i] = answer_to_onehot_dict.get(answer[0].lower(),default_onehot)\n",
        "\n",
        "    return answer_matrix"
      ],
      "id": "d22dbd63"
    },
    {
      "cell_type": "code",
      "execution_count": 13,
      "metadata": {
        "id": "921a0abe"
      },
      "outputs": [],
      "source": [
        "def get_questions_matrix(data_path):\n",
        "    df = pd.read_pickle(data_path)\n",
        "    questions = df[['question']].values.tolist()\n",
        "    word_idx = load_idx()\n",
        "    seq_list = []\n",
        "\n",
        "    for question in questions:\n",
        "        words = word_tokenize(question[0])\n",
        "        seq = []\n",
        "        for word in words:\n",
        "            seq.append(word_idx.get(word,0))\n",
        "        seq_list.append(seq)\n",
        "    question_matrix = pad_sequences(seq_list)\n",
        "\n",
        "    return question_matrix"
      ],
      "id": "921a0abe"
    },
    {
      "cell_type": "code",
      "execution_count": 14,
      "metadata": {
        "id": "44af6ffe"
      },
      "outputs": [],
      "source": [
        "def get_coco_features(data_path,id_map_path,features_path):\n",
        "    img_labels = pd.read_pickle(data_path)[['image_id']].values.tolist()\n",
        "    img_ids = open(id_map_path).read().splitlines()\n",
        "    features_struct = sc.io.loadmat(features_path)\n",
        "\n",
        "    id_map = {}\n",
        "    for ids in img_ids:\n",
        "        ids_split = ids.split()\n",
        "        id_map[int(ids_split[0])] = int(ids_split[1])\n",
        "\n",
        "    VGGfeatures = features_struct['feats']\n",
        "    nb_dimensions = VGGfeatures.shape[0]\n",
        "    nb_images = len(img_labels)\n",
        "    image_matrix = np.zeros((nb_images,nb_dimensions))\n",
        "\n",
        "    for i in range(nb_images):\n",
        "        image_matrix[i,:] = VGGfeatures[:,id_map[img_labels[i][0]]]\n",
        "\n",
        "    return image_matrix"
      ],
      "id": "44af6ffe"
    },
    {
      "cell_type": "code",
      "execution_count": 15,
      "metadata": {
        "colab": {
          "base_uri": "https://localhost:8080/"
        },
        "id": "11d1e385",
        "outputId": "27eda3ec-aa54-4a81-ef2e-53b6e6b9959d"
      },
      "outputs": [
        {
          "output_type": "stream",
          "name": "stdout",
          "text": [
            "Loading questions ...\n",
            "Loading answers ...\n",
            "Loading image features ...\n"
          ]
        }
      ],
      "source": [
        "train_data_path='/content/drive/My Drive/VQA/data/train_qa'\n",
        "val_data_path='/content/drive/My Drive/VQA/data/val_qa'\n",
        "\n",
        "id_map_path = '/content/drive/My Drive/VQA/coco_features/coco_vgg_IDMap.txt'\n",
        "features_path = '/content/drive/My Drive/VQA/coco_features/vgg_feats.mat'\n",
        "    \n",
        "top_answers = int_to_answers(train_data_path)\n",
        "answer_to_onehot_dict = answers_to_onehot(train_data_path)\n",
        "\n",
        "#parser = argparse.ArgumentParser()\n",
        "#parser.add_argument('-num_epochs', type=int, default=10)\n",
        "#parser.add_argument('-batch_size', type=int, default=100)\n",
        "#args = parser.parse_args()\n",
        "\n",
        "print('Loading questions ...')\n",
        "questions_train = get_questions_matrix(train_data_path)\n",
        "questions_val = get_questions_matrix(val_data_path)\n",
        "print('Loading answers ...')\n",
        "answers_train = get_answers_matrix(train_data_path)\n",
        "answers_val = get_answers_matrix(val_data_path)\n",
        "print('Loading image features ...')\n",
        "img_features_train = get_coco_features(train_data_path,id_map_path,features_path)\n",
        "img_features_val = get_coco_features(val_data_path,id_map_path,features_path)"
      ],
      "id": "11d1e385"
    },
    {
      "cell_type": "code",
      "execution_count": 16,
      "metadata": {
        "id": "JkepXfSJo3TW"
      },
      "outputs": [],
      "source": [
        "questions_val=questions_val[:,2:]"
      ],
      "id": "JkepXfSJo3TW"
    },
    {
      "cell_type": "code",
      "execution_count": 17,
      "metadata": {
        "id": "dtC-N4swFG9H"
      },
      "outputs": [],
      "source": [
        "import tensorflow\n",
        "tensorflow.keras.backend.set_image_data_format(\"channels_last\")"
      ],
      "id": "dtC-N4swFG9H"
    },
    {
      "cell_type": "code",
      "execution_count": 30,
      "metadata": {
        "id": "V92XWhGanE4y"
      },
      "outputs": [],
      "source": [
        "img_features_train_s=img_features_train[:180000,:]\n",
        "questions_train_s=questions_train[:180000,:]\n",
        "answers_train_s=answers_train[:180000,:]\n",
        "\n",
        "img_features_val_s=img_features_val[:100000,:]\n",
        "questions_val_s=questions_val[:100000,:]\n",
        "answers_val_s=answers_val[:100000,:]\n",
        "\n",
        "del img_features_train\n",
        "del questions_train\n",
        "del answers_train\n",
        "\n",
        "del img_features_val\n",
        "del questions_val\n",
        "del answers_val"
      ],
      "id": "V92XWhGanE4y"
    },
    {
      "cell_type": "code",
      "execution_count": 31,
      "metadata": {
        "id": "ru8dK1pFaNHZ"
      },
      "outputs": [],
      "source": [
        "#X_train = [img_features_train, questions_train, img_features_train]\n",
        "#X_val = [img_features_val, questions_val, img_features_val]\n",
        "\n",
        "X_train = [img_features_train_s, questions_train_s, img_features_train_s]\n",
        "X_val = [img_features_val_s, questions_val_s, img_features_val_s]"
      ],
      "id": "ru8dK1pFaNHZ"
    },
    {
      "cell_type": "code",
      "execution_count": 32,
      "metadata": {
        "id": "jsH0whelctwS"
      },
      "outputs": [],
      "source": [
        "from keras import Model\n",
        "from keras.layers import Input"
      ],
      "id": "jsH0whelctwS"
    },
    {
      "cell_type": "code",
      "execution_count": 33,
      "metadata": {
        "id": "JoMFeCx9hCDG"
      },
      "outputs": [],
      "source": [
        "from keras.layers import concatenate"
      ],
      "id": "JoMFeCx9hCDG"
    },
    {
      "cell_type": "markdown",
      "metadata": {
        "id": "1pLvZmx-k-fm"
      },
      "source": [
        "### Creating Model"
      ],
      "id": "1pLvZmx-k-fm"
    },
    {
      "cell_type": "code",
      "execution_count": null,
      "metadata": {
        "id": "I-qHNeQvTYG0"
      },
      "outputs": [],
      "source": [
        "embedding_matrix=load()"
      ],
      "id": "I-qHNeQvTYG0"
    },
    {
      "cell_type": "code",
      "execution_count": null,
      "metadata": {
        "colab": {
          "base_uri": "https://localhost:8080/"
        },
        "id": "B_HT_nj6k4qd",
        "outputId": "f30c6cf0-86ec-473d-94a4-acb192a1a4ed"
      },
      "outputs": [
        {
          "data": {
            "text/plain": [
              "(2196017, 300)"
            ]
          },
          "execution_count": 23,
          "metadata": {},
          "output_type": "execute_result"
        }
      ],
      "source": [
        "from keras import layers\n",
        "embedding_matrix.shape"
      ],
      "id": "B_HT_nj6k4qd"
    },
    {
      "cell_type": "code",
      "execution_count": null,
      "metadata": {
        "id": "jMgtHrDKlxHx"
      },
      "outputs": [],
      "source": [
        "emb_input = keras.Input(shape=(4096,))\n",
        "im1_input = keras.Input(shape=(25,))\n",
        "im2_input = keras.Input(shape=(4096,))\n",
        "\n",
        "emb = layers.Embedding(2196017, 300,\n",
        "    weights = [embedding_matrix],\n",
        "    trainable = False)(emb_input)"
      ],
      "id": "jMgtHrDKlxHx"
    },
    {
      "cell_type": "code",
      "execution_count": null,
      "metadata": {
        "id": "suG-m-gBmqhG"
      },
      "outputs": [],
      "source": [
        "emb = layers.Reshape((-1,300))(emb)"
      ],
      "id": "suG-m-gBmqhG"
    },
    {
      "cell_type": "code",
      "execution_count": null,
      "metadata": {
        "id": "5xa2-Iubmt1p"
      },
      "outputs": [],
      "source": [
        "im1 = layers.Dense(300,\n",
        "            input_dim=4096,\n",
        "            activation='linear')(im1_input)\n",
        "\n",
        "im1 = layers.Reshape((1,300))(im1)"
      ],
      "id": "5xa2-Iubmt1p"
    },
    {
      "cell_type": "code",
      "execution_count": null,
      "metadata": {
        "id": "ePy7tLg9kIdK"
      },
      "outputs": [],
      "source": [
        "im2 = layers.Dense(300,\n",
        "            input_dim=4096,\n",
        "            activation='linear')(im2_input)\n",
        "im2 = layers.Reshape((1,300))(im2)"
      ],
      "id": "ePy7tLg9kIdK"
    },
    {
      "cell_type": "code",
      "execution_count": null,
      "metadata": {
        "id": "ctERfnClkRVj"
      },
      "outputs": [],
      "source": [
        "concat = layers.concatenate([emb, im1, im2], axis=1)"
      ],
      "id": "ctERfnClkRVj"
    },
    {
      "cell_type": "code",
      "execution_count": null,
      "metadata": {
        "colab": {
          "base_uri": "https://localhost:8080/"
        },
        "id": "kWuKR2OunEeZ",
        "outputId": "e34e62b9-a789-42dc-e942-dd86d0bb25e6"
      },
      "outputs": [
        {
          "data": {
            "text/plain": [
              "TensorShape([None, 4098, 300])"
            ]
          },
          "execution_count": 29,
          "metadata": {},
          "output_type": "execute_result"
        }
      ],
      "source": [
        "concat.shape"
      ],
      "id": "kWuKR2OunEeZ"
    },
    {
      "cell_type": "code",
      "execution_count": null,
      "metadata": {
        "id": "akMFWk3GnUU-"
      },
      "outputs": [],
      "source": [
        "keras.backend.set_image_data_format(\"channels_last\")"
      ],
      "id": "akMFWk3GnUU-"
    },
    {
      "cell_type": "code",
      "execution_count": null,
      "metadata": {
        "id": "NgATA34VkQ4v"
      },
      "outputs": [],
      "source": [
        "lstm = layers.LSTM(1001)(concat)"
      ],
      "id": "NgATA34VkQ4v"
    },
    {
      "cell_type": "code",
      "execution_count": null,
      "metadata": {
        "id": "0vdPrzwbm_oz"
      },
      "outputs": [],
      "source": [
        "output = Dropout(0.5)(lstm)\n",
        "output = Dense(1001,activation='softmax')(output)"
      ],
      "id": "0vdPrzwbm_oz"
    },
    {
      "cell_type": "code",
      "execution_count": null,
      "metadata": {
        "id": "uGe51NRinoVi"
      },
      "outputs": [],
      "source": [
        "model = keras.Model([emb_input, im1_input, im2_input], output)"
      ],
      "id": "uGe51NRinoVi"
    },
    {
      "cell_type": "code",
      "execution_count": null,
      "metadata": {
        "id": "pecMDCGXnyYc"
      },
      "outputs": [],
      "source": [
        "num_epochs=10\n",
        "batch_size=100\n",
        "\n",
        "model.compile(optimizer='adam',\n",
        "    loss='categorical_crossentropy',\n",
        "    metrics=['accuracy'])"
      ],
      "id": "pecMDCGXnyYc"
    },
    {
      "cell_type": "code",
      "execution_count": null,
      "metadata": {
        "id": "Z5A7tiNrf9Yd"
      },
      "outputs": [],
      "source": [
        "import tensorflow\n",
        "tensorflow.config.run_functions_eagerly(True)"
      ],
      "id": "Z5A7tiNrf9Yd"
    },
    {
      "cell_type": "code",
      "execution_count": null,
      "metadata": {
        "id": "kvCJzEFXFNJp"
      },
      "outputs": [],
      "source": [
        "from keras.callbacks import ModelCheckpoint\n",
        "filepath = '/content/drive/MyDrive/VQA/weights/saved_model.h5'\n",
        "checkpoint = ModelCheckpoint(filepath, monitor='loss', verbose=1, save_best_only=True, mode='min')\n",
        "callbacks_list = [checkpoint]"
      ],
      "id": "kvCJzEFXFNJp"
    },
    {
      "cell_type": "code",
      "execution_count": null,
      "metadata": {
        "colab": {
          "base_uri": "https://localhost:8080/"
        },
        "id": "42edee17",
        "outputId": "f586dfbb-d167-491d-a1e2-284cea9eed07"
      },
      "outputs": [
        {
          "name": "stderr",
          "output_type": "stream",
          "text": [
            "/usr/local/lib/python3.9/dist-packages/tensorflow/python/data/ops/structured_function.py:254: UserWarning: Even though the `tf.config.experimental_run_functions_eagerly` option is set, this option does not apply to tf.data functions. To force eager execution of tf.data functions, please use `tf.data.experimental.enable_debug_mode()`.\n",
            "  warnings.warn(\n"
          ]
        },
        {
          "name": "stdout",
          "output_type": "stream",
          "text": [
            "Epoch 1/10\n",
            "1800/1800 [==============================] - ETA: 0s - loss: 3.8369 - accuracy: 0.2355\n",
            "Epoch 1: loss improved from inf to 3.83688, saving model to /content/drive/MyDrive/VQA/weights/saved_model.h5\n",
            "1800/1800 [==============================] - 1315s 727ms/step - loss: 3.8369 - accuracy: 0.2355 - val_loss: 3.6257 - val_accuracy: 0.2409\n",
            "Epoch 2/10\n",
            "1800/1800 [==============================] - ETA: 0s - loss: 3.7510 - accuracy: 0.2398\n",
            "Epoch 2: loss improved from 3.83688 to 3.75096, saving model to /content/drive/MyDrive/VQA/weights/saved_model.h5\n",
            "1800/1800 [==============================] - 1306s 725ms/step - loss: 3.7510 - accuracy: 0.2398 - val_loss: 3.6100 - val_accuracy: 0.2425\n",
            "Epoch 3/10\n",
            "1800/1800 [==============================] - ETA: 0s - loss: 3.7207 - accuracy: 0.2414\n",
            "Epoch 3: loss improved from 3.75096 to 3.72071, saving model to /content/drive/MyDrive/VQA/weights/saved_model.h5\n",
            "1800/1800 [==============================] - 1302s 723ms/step - loss: 3.7207 - accuracy: 0.2414 - val_loss: 3.5882 - val_accuracy: 0.2411\n",
            "Epoch 4/10\n",
            "1800/1800 [==============================] - ETA: 0s - loss: 3.6834 - accuracy: 0.2428\n",
            "Epoch 4: loss improved from 3.72071 to 3.68341, saving model to /content/drive/MyDrive/VQA/weights/saved_model.h5\n",
            "1800/1800 [==============================] - 1301s 723ms/step - loss: 3.6834 - accuracy: 0.2428 - val_loss: 3.5419 - val_accuracy: 0.2444\n",
            "Epoch 5/10\n",
            "1800/1800 [==============================] - ETA: 0s - loss: 3.6790 - accuracy: 0.2427\n",
            "Epoch 5: loss improved from 3.68341 to 3.67898, saving model to /content/drive/MyDrive/VQA/weights/saved_model.h5\n",
            "1800/1800 [==============================] - 1301s 723ms/step - loss: 3.6790 - accuracy: 0.2427 - val_loss: 3.5563 - val_accuracy: 0.2445\n",
            "Epoch 6/10\n",
            "1800/1800 [==============================] - ETA: 0s - loss: 3.6859 - accuracy: 0.2415\n",
            "Epoch 6: loss did not improve from 3.67898\n",
            "1800/1800 [==============================] - 1290s 717ms/step - loss: 3.6859 - accuracy: 0.2415 - val_loss: 3.5618 - val_accuracy: 0.2441\n",
            "Epoch 7/10\n",
            "1800/1800 [==============================] - ETA: 0s - loss: 3.7017 - accuracy: 0.2413\n",
            "Epoch 7: loss did not improve from 3.67898\n",
            "1800/1800 [==============================] - 1290s 717ms/step - loss: 3.7017 - accuracy: 0.2413 - val_loss: 3.5679 - val_accuracy: 0.2454\n",
            "Epoch 8/10\n",
            "1800/1800 [==============================] - ETA: 0s - loss: 3.6974 - accuracy: 0.2421\n",
            "Epoch 8: loss did not improve from 3.67898\n",
            "1800/1800 [==============================] - 1291s 717ms/step - loss: 3.6974 - accuracy: 0.2421 - val_loss: 3.5553 - val_accuracy: 0.2480\n",
            "Epoch 9/10\n",
            "1800/1800 [==============================] - ETA: 0s - loss: 3.6451 - accuracy: 0.2442\n",
            "Epoch 9: loss improved from 3.67898 to 3.64509, saving model to /content/drive/MyDrive/VQA/weights/saved_model.h5\n",
            "1800/1800 [==============================] - 1302s 723ms/step - loss: 3.6451 - accuracy: 0.2442 - val_loss: 3.5224 - val_accuracy: 0.2498\n",
            "Epoch 10/10\n",
            "1800/1800 [==============================] - ETA: 0s - loss: 3.6407 - accuracy: 0.2439\n",
            "Epoch 10: loss improved from 3.64509 to 3.64072, saving model to /content/drive/MyDrive/VQA/weights/saved_model.h5\n",
            "1800/1800 [==============================] - 1304s 724ms/step - loss: 3.6407 - accuracy: 0.2439 - val_loss: 3.5500 - val_accuracy: 0.2482\n"
          ]
        },
        {
          "data": {
            "text/plain": [
              "<keras.callbacks.History at 0x7f9f03a77850>"
            ]
          },
          "execution_count": 38,
          "metadata": {},
          "output_type": "execute_result"
        }
      ],
      "source": [
        "model.fit(X_train,answers_train_s,\n",
        "    epochs=num_epochs,\n",
        "    batch_size=batch_size,\n",
        "    validation_data=(X_val,answers_val_s),\n",
        "    callbacks=callbacks_list,\n",
        "    verbose=1)"
      ],
      "id": "42edee17"
    },
    {
      "cell_type": "code",
      "execution_count": null,
      "metadata": {
        "id": "7aduwjsgdDAp"
      },
      "outputs": [],
      "source": [
        "from keras.models import load_model"
      ],
      "id": "7aduwjsgdDAp"
    },
    {
      "cell_type": "code",
      "execution_count": null,
      "metadata": {
        "id": "XaXWTR36cCN6"
      },
      "outputs": [],
      "source": [
        "model = load_model('/content/drive/MyDrive/VQA/weights/saved_model.h5')"
      ],
      "id": "XaXWTR36cCN6"
    },
    {
      "cell_type": "code",
      "execution_count": null,
      "metadata": {
        "id": "xQwvSwGvdQFt"
      },
      "outputs": [],
      "source": [
        "num_epochs=10\n",
        "batch_size=100"
      ],
      "id": "xQwvSwGvdQFt"
    },
    {
      "cell_type": "code",
      "execution_count": null,
      "metadata": {
        "id": "3hyP9X8kdYdw"
      },
      "outputs": [],
      "source": [
        "from keras.callbacks import ModelCheckpoint\n",
        "filepath = '/content/drive/MyDrive/VQA/weights/saved_model2.h5'\n",
        "checkpoint = ModelCheckpoint(filepath, monitor='loss', verbose=1, save_best_only=True, mode='min')\n",
        "callbacks_list = [checkpoint]"
      ],
      "id": "3hyP9X8kdYdw"
    },
    {
      "cell_type": "code",
      "execution_count": null,
      "metadata": {
        "colab": {
          "background_save": true,
          "base_uri": "https://localhost:8080/"
        },
        "id": "SCgXTrD4cYLB",
        "outputId": "4b5cdad1-f901-4e92-8b7b-153ec559ac02"
      },
      "outputs": [
        {
          "name": "stdout",
          "output_type": "stream",
          "text": [
            "Epoch 1/10\n",
            "1800/1800 [==============================] - ETA: 0s - loss: 3.6479 - accuracy: 0.2427\n",
            "Epoch 1: loss improved from inf to 3.64794, saving model to /content/drive/MyDrive/VQA/weights/saved_model2.h5\n",
            "1800/1800 [==============================] - 1204s 664ms/step - loss: 3.6479 - accuracy: 0.2427 - val_loss: 3.5249 - val_accuracy: 0.2444\n",
            "Epoch 2/10\n",
            "1800/1800 [==============================] - ETA: 0s - loss: 3.6312 - accuracy: 0.2433\n",
            "Epoch 2: loss improved from 3.64794 to 3.63117, saving model to /content/drive/MyDrive/VQA/weights/saved_model2.h5\n",
            "1800/1800 [==============================] - 1188s 660ms/step - loss: 3.6312 - accuracy: 0.2433 - val_loss: 3.5148 - val_accuracy: 0.2436\n",
            "Epoch 3/10\n",
            "1800/1800 [==============================] - ETA: 0s - loss: 3.6346 - accuracy: 0.2440\n",
            "Epoch 3: loss did not improve from 3.63117\n",
            "1800/1800 [==============================] - 1180s 655ms/step - loss: 3.6346 - accuracy: 0.2440 - val_loss: 3.5036 - val_accuracy: 0.2479\n",
            "Epoch 4/10\n",
            "1800/1800 [==============================] - ETA: 0s - loss: 3.6288 - accuracy: 0.2433\n",
            "Epoch 4: loss improved from 3.63117 to 3.62880, saving model to /content/drive/MyDrive/VQA/weights/saved_model2.h5\n",
            "1800/1800 [==============================] - 1189s 661ms/step - loss: 3.6288 - accuracy: 0.2433 - val_loss: 3.5330 - val_accuracy: 0.2491\n",
            "Epoch 5/10\n",
            "1800/1800 [==============================] - ETA: 0s - loss: 3.6397 - accuracy: 0.2426\n",
            "Epoch 5: loss did not improve from 3.62880\n",
            "1800/1800 [==============================] - 1180s 656ms/step - loss: 3.6397 - accuracy: 0.2426 - val_loss: 3.5520 - val_accuracy: 0.2470\n",
            "Epoch 6/10\n",
            "1800/1800 [==============================] - ETA: 0s - loss: 3.6473 - accuracy: 0.2449\n",
            "Epoch 6: loss did not improve from 3.62880\n",
            "1800/1800 [==============================] - 1180s 656ms/step - loss: 3.6473 - accuracy: 0.2449 - val_loss: 3.5387 - val_accuracy: 0.2488\n",
            "Epoch 7/10\n",
            "1800/1800 [==============================] - ETA: 0s - loss: 3.6425 - accuracy: 0.2445\n",
            "Epoch 7: loss did not improve from 3.62880\n",
            "1800/1800 [==============================] - 1180s 656ms/step - loss: 3.6425 - accuracy: 0.2445 - val_loss: 3.5922 - val_accuracy: 0.2499\n",
            "Epoch 8/10\n",
            "1800/1800 [==============================] - ETA: 0s - loss: 3.6575 - accuracy: 0.2437\n",
            "Epoch 8: loss did not improve from 3.62880\n",
            "1800/1800 [==============================] - 1179s 655ms/step - loss: 3.6575 - accuracy: 0.2437 - val_loss: 3.5432 - val_accuracy: 0.2470\n",
            "Epoch 9/10\n",
            "1800/1800 [==============================] - ETA: 0s - loss: 3.6419 - accuracy: 0.2448\n",
            "Epoch 9: loss did not improve from 3.62880\n",
            "1800/1800 [==============================] - 1179s 655ms/step - loss: 3.6419 - accuracy: 0.2448 - val_loss: 3.5139 - val_accuracy: 0.2515\n",
            "Epoch 10/10\n",
            "1800/1800 [==============================] - ETA: 0s - loss: 3.5962 - accuracy: 0.2457\n",
            "Epoch 10: loss improved from 3.62880 to 3.59622, saving model to /content/drive/MyDrive/VQA/weights/saved_model2.h5\n",
            "1800/1800 [==============================] - 1190s 661ms/step - loss: 3.5962 - accuracy: 0.2457 - val_loss: 3.5234 - val_accuracy: 0.2524\n"
          ]
        },
        {
          "data": {
            "text/plain": [
              "<keras.callbacks.History at 0x7ff118e99fd0>"
            ]
          },
          "execution_count": 30,
          "metadata": {},
          "output_type": "execute_result"
        }
      ],
      "source": [
        "model.fit(X_train,answers_train_s,\n",
        "    epochs=num_epochs,\n",
        "    batch_size=batch_size,\n",
        "    validation_data=(X_val,answers_val_s),\n",
        "    callbacks=callbacks_list,\n",
        "    verbose=1)"
      ],
      "id": "SCgXTrD4cYLB"
    },
    {
      "cell_type": "code",
      "source": [
        "#accuracy\n",
        "from matplotlib import pyplot as plt\n",
        "plt.plot([1,2,3,4,5,6,7,8,9,10,11,12,13,14,15,16,17,18,19,20], [0.2355, 0.2398, 0.2414, 0.2428, 0.2427, 0.2415, 0.2413, 0.2421, 0.2442, 0.2439, 0.2427, 0.2433, 0.2440, 0.2433, 0.2426, 0.2449, 0.2445, 0.2437, 0.2448, 0.2457], label='train')\n",
        "plt.plot([1,2,3,4,5,6,7,8,9,10,11,12,13,14,15,16,17,18,19,20], [0.2409, 0.2425, 0.2411, 0.2444, 0.2445, 0.2441, 0.2454, 0.2480, 0.2498, 0.2482, 0.2444, 0.2436, 0.2479, 0.2491, 0.2470, 0.2488, 0.2499, 0.2470, 0.2515, 0.2524], label='val')\n",
        "plt.xlabel(\"epochs\")\n",
        "plt.ylabel(\"Accuracy\")\n",
        "plt.legend()\n",
        "#plt.show()"
      ],
      "metadata": {
        "colab": {
          "base_uri": "https://localhost:8080/",
          "height": 466
        },
        "id": "Y7WAfgO8Amz1",
        "outputId": "7a6a9c7b-e2ca-4182-e674-07a97290e43d"
      },
      "id": "Y7WAfgO8Amz1",
      "execution_count": null,
      "outputs": [
        {
          "output_type": "execute_result",
          "data": {
            "text/plain": [
              "<matplotlib.legend.Legend at 0x7f42451b6ee0>"
            ]
          },
          "metadata": {},
          "execution_count": 2
        },
        {
          "output_type": "display_data",
          "data": {
            "text/plain": [
              "<Figure size 640x480 with 1 Axes>"
            ],
            "image/png": "[encoded data removed]"
          },
          "metadata": {}
        }
      ]
    },
    {
      "cell_type": "code",
      "source": [
        "plt.plot([1,2,3,4,5,6,7,8,9,10,11,12,13,14,15,16,17,18,19,20], [3.8369, 3.7510, 3.7207, 3.6834, 3.6790, 3.6859, 3.7017, 3.6974, 3.6451, 3.6407, 3.6479, 3.6312, 3.6346, 3.6288, 3.6397, 3.6473, 3.6425, 3.6575, 3.6419, 3.5962], label='train')\n",
        "plt.plot([1,2,3,4,5,6,7,8,9,10,11,12,13,14,15,16,17,18,19,20], [3.6257, 3.6100, 3.5882, 3.5419, 3.5563, 3.5618, 3.5679, 3.5553, 3.5224, 3.5500, 3.5249, 3.5148, 3.5036, 3.5330, 3.5520, 3.5387, 3.5922, 3.5432, 3.5139, 3.5234], label='val')\n",
        "plt.xlabel(\"epochs\")\n",
        "plt.ylabel(\"Loss\")\n",
        "plt.legend()\n",
        "#plt.show()"
      ],
      "metadata": {
        "colab": {
          "base_uri": "https://localhost:8080/",
          "height": 468
        },
        "id": "r2iaB10NExFJ",
        "outputId": "503beee8-3302-401a-cc6c-c2369507dfa1"
      },
      "id": "r2iaB10NExFJ",
      "execution_count": null,
      "outputs": [
        {
          "output_type": "execute_result",
          "data": {
            "text/plain": [
              "<matplotlib.legend.Legend at 0x7f4245057d90>"
            ]
          },
          "metadata": {},
          "execution_count": 3
        },
        {
          "output_type": "display_data",
          "data": {
            "text/plain": [
              "<Figure size 640x480 with 1 Axes>"
            ],
            "image/png": "[encoded data removed]"
          },
          "metadata": {}
        }
      ]
    },
    {
      "cell_type": "code",
      "execution_count": null,
      "metadata": {
        "colab": {
          "base_uri": "https://localhost:8080/",
          "height": 217
        },
        "id": "lI021D9Yn6Td",
        "outputId": "65f1fc98-32cc-4a7c-ab3f-ce5995e0ee00"
      },
      "outputs": [
        {
          "ename": "NameError",
          "evalue": "ignored",
          "output_type": "error",
          "traceback": [
            "\u001b[0;31m---------------------------------------------------------------------------\u001b[0m",
            "\u001b[0;31mNameError\u001b[0m                                 Traceback (most recent call last)",
            "\u001b[0;32m<ipython-input-1-f431ee794332>\u001b[0m in \u001b[0;36m<cell line: 2>\u001b[0;34m()\u001b[0m\n\u001b[1;32m      1\u001b[0m \u001b[0;31m# old path = c:/Users/thari/Desktop/\u001b[0m\u001b[0;34m\u001b[0m\u001b[0;34m\u001b[0m\u001b[0m\n\u001b[0;32m----> 2\u001b[0;31m \u001b[0mmodel\u001b[0m\u001b[0;34m.\u001b[0m\u001b[0msave_weights\u001b[0m\u001b[0;34m(\u001b[0m\u001b[0;34m'/content/drive/MyDrive/VQA/weights/model_weights.h5'\u001b[0m\u001b[0;34m)\u001b[0m\u001b[0;34m\u001b[0m\u001b[0;34m\u001b[0m\u001b[0m\n\u001b[0m\u001b[1;32m      3\u001b[0m \u001b[0;32mwith\u001b[0m \u001b[0mopen\u001b[0m\u001b[0;34m(\u001b[0m\u001b[0;34m'/content/drive/MyDrive/VQA/weights/model_architecture.json'\u001b[0m\u001b[0;34m,\u001b[0m \u001b[0;34m'w'\u001b[0m\u001b[0;34m)\u001b[0m \u001b[0;32mas\u001b[0m \u001b[0mf\u001b[0m\u001b[0;34m:\u001b[0m\u001b[0;34m\u001b[0m\u001b[0;34m\u001b[0m\u001b[0m\n\u001b[1;32m      4\u001b[0m         \u001b[0mf\u001b[0m\u001b[0;34m.\u001b[0m\u001b[0mwrite\u001b[0m\u001b[0;34m(\u001b[0m\u001b[0mmodel\u001b[0m\u001b[0;34m.\u001b[0m\u001b[0mto_json\u001b[0m\u001b[0;34m(\u001b[0m\u001b[0;34m)\u001b[0m\u001b[0;34m)\u001b[0m\u001b[0;34m\u001b[0m\u001b[0;34m\u001b[0m\u001b[0m\n",
            "\u001b[0;31mNameError\u001b[0m: name 'model' is not defined"
          ]
        }
      ],
      "source": [
        "# old path = c:/Users/thari/Desktop/\n",
        "model.save_weights('/content/drive/MyDrive/VQA/weights/model_weights.h5')\n",
        "with open('/content/drive/MyDrive/VQA/weights/model_architecture.json', 'w') as f:\n",
        "        f.write(model.to_json())"
      ],
      "id": "lI021D9Yn6Td"
    },
    {
      "cell_type": "code",
      "execution_count": 34,
      "metadata": {
        "id": "sYIj7CRyw_HK"
      },
      "outputs": [],
      "source": [
        "from keras.applications.vgg16 import preprocess_input\n",
        "from keras.preprocessing import image\n",
        "from keras.models import load_model\n",
        "from keras.models import model_from_json"
      ],
      "id": "sYIj7CRyw_HK"
    },
    {
      "cell_type": "code",
      "execution_count": 35,
      "metadata": {
        "id": "wGCsXlmChd1k"
      },
      "outputs": [],
      "source": [
        "from keras.layers import Dense, Conv2D, MaxPool2D , Flatten"
      ],
      "id": "wGCsXlmChd1k"
    },
    {
      "cell_type": "code",
      "execution_count": 36,
      "metadata": {
        "colab": {
          "base_uri": "https://localhost:8080/"
        },
        "id": "7L2XHZC_xcJn",
        "outputId": "760c19e7-9bc8-4fed-f294-1f44bd4a252c"
      },
      "outputs": [
        {
          "output_type": "stream",
          "name": "stdout",
          "text": [
            "Downloading data from https://storage.googleapis.com/tensorflow/keras-applications/vgg16/vgg16_weights_tf_dim_ordering_tf_kernels.h5\n",
            "553467096/553467096 [==============================] - 29s 0us/step\n"
          ]
        }
      ],
      "source": [
        "#from keras.layers import Dense, Embedding, LSTM, Concatenate, Reshape, Dropout, Convolution2D, MaxPooling2D, ZeroPadding2D, Flatten, Input\n",
        "#model = VGG_16('/content/drive/MyDrive/VQA/weights/vgg16_weights_th_dim_ordering_th_kernels.h5')\n",
        "model=tensorflow.keras.applications.VGG16(\n",
        "    include_top=True,\n",
        "    weights=\"imagenet\",\n",
        "    input_tensor=None,\n",
        "    input_shape=None,\n",
        "    pooling=None,\n",
        "    classes=1000,\n",
        "    classifier_activation=\"softmax\",\n",
        ")"
      ],
      "id": "7L2XHZC_xcJn"
    },
    {
      "cell_type": "code",
      "execution_count": 37,
      "metadata": {
        "id": "eEIuhFZqzAD_"
      },
      "outputs": [],
      "source": [
        "img_path='/content/drive/MyDrive/VQA/dog.jpeg'\n",
        "img = tensorflow.keras.utils.load_img(img_path,target_size=(224,224))"
      ],
      "id": "eEIuhFZqzAD_"
    },
    {
      "cell_type": "code",
      "execution_count": 38,
      "metadata": {
        "id": "xcnB-093xSkE"
      },
      "outputs": [],
      "source": [
        "#model = VGG_16('weights/vgg16_weights_th_dim_ordering_th_kernels.h5')\n",
        "#img_path='/content/drive/MyDrive/VQA/dog.jpeg'\n",
        "#img = image.load_img(img_path,target_size=(224,224))\n",
        "x = tensorflow.keras.utils.img_to_array(img)\n",
        "x = np.expand_dims(x,axis=0)\n",
        "x = preprocess_input(x)\n",
        "#last_layer_output = K.function([model.layers[0].input,K.learning_phase()],[model.layers[-1].input])\n",
        "#features = last_layer_output([x,0])[0]"
      ],
      "id": "xcnB-093xSkE"
    },
    {
      "cell_type": "code",
      "execution_count": 39,
      "metadata": {
        "id": "zV-_aEMs0xw4"
      },
      "outputs": [],
      "source": [
        "last_layer_output=model.get_layer('fc2').output"
      ],
      "id": "zV-_aEMs0xw4"
    },
    {
      "cell_type": "code",
      "execution_count": 40,
      "metadata": {
        "colab": {
          "base_uri": "https://localhost:8080/"
        },
        "id": "JH_7y3P0055D",
        "outputId": "6ece318b-7170-4815-ea69-4ffde152afb4"
      },
      "outputs": [
        {
          "output_type": "execute_result",
          "data": {
            "text/plain": [
              "<KerasTensor: shape=(None, 4096) dtype=float32 (created by layer 'fc2')>"
            ]
          },
          "metadata": {},
          "execution_count": 40
        }
      ],
      "source": [
        "last_layer_output"
      ],
      "id": "JH_7y3P0055D"
    },
    {
      "cell_type": "code",
      "execution_count": 41,
      "metadata": {
        "id": "Ce5BTahKwdHq"
      },
      "outputs": [],
      "source": [
        "from tensorflow.keras.models import Model"
      ],
      "id": "Ce5BTahKwdHq"
    },
    {
      "cell_type": "code",
      "execution_count": 42,
      "metadata": {
        "colab": {
          "base_uri": "https://localhost:8080/"
        },
        "id": "ziulDYTsICbC",
        "outputId": "d55f954f-81d9-47f8-8efc-38b26c81acf5"
      },
      "outputs": [
        {
          "output_type": "stream",
          "name": "stdout",
          "text": [
            "1/1 [==============================] - 7s 7s/step\n"
          ]
        }
      ],
      "source": [
        "submodel = Model(model.inputs, model.get_layer(\"fc2\").output)   \n",
        "results = submodel.predict(x)"
      ],
      "id": "ziulDYTsICbC"
    },
    {
      "cell_type": "code",
      "execution_count": 43,
      "metadata": {
        "id": "fp8jyoE01Mm8"
      },
      "outputs": [],
      "source": [
        "features = results"
      ],
      "id": "fp8jyoE01Mm8"
    },
    {
      "cell_type": "code",
      "execution_count": null,
      "metadata": {
        "id": "Iug9ofmkxCpl"
      },
      "outputs": [],
      "source": [
        "def extract_image_features(img_path):\n",
        "\tmodel = VGG_16('weights/vgg16_weights_th_dim_ordering_th_kernels.h5')\n",
        "\timg = image.load_img(img_path,target_size=(224,224))\n",
        "\tx = image.img_to_array(img)\n",
        "\tx = np.expand_dims(x,axis=0)\n",
        "\tx = preprocess_input(x)\n",
        "\tlast_layer_output = K.function([model.layers[0].input,K.learning_phase()],\n",
        "\t\t[model.layers[-1].input])\n",
        "\tfeatures = last_layer_output([x,0])[0]\n",
        "\treturn features\n"
      ],
      "id": "Iug9ofmkxCpl"
    },
    {
      "cell_type": "code",
      "execution_count": 44,
      "metadata": {
        "id": "QJqmUPVf4xIu"
      },
      "outputs": [],
      "source": [
        "def preprocess_question(question):\n",
        "\tword_idx = load_idx()\n",
        "\ttokens = word_tokenize(question)\n",
        "\tseq = []\n",
        "\tfor token in tokens:\n",
        "\t\tseq.append(word_idx.get(token,0))\n",
        "\tseq = np.reshape(seq,(1,len(seq)))\n",
        "\treturn seq"
      ],
      "id": "QJqmUPVf4xIu"
    },
    {
      "cell_type": "code",
      "source": [
        "seq = preprocess_question('Which animal is this?')\n",
        "seq=tf.keras.utils.pad_sequences(\n",
        "    seq,\n",
        "    maxlen=25,\n",
        "    dtype='int32',\n",
        "    padding='pre',\n",
        "    truncating='pre',\n",
        "    value=0\n",
        ")"
      ],
      "metadata": {
        "id": "YdGYailm8qHn"
      },
      "id": "YdGYailm8qHn",
      "execution_count": 48,
      "outputs": []
    },
    {
      "cell_type": "code",
      "execution_count": 49,
      "metadata": {
        "id": "SgFCMXTQ48Gf"
      },
      "outputs": [],
      "source": [
        "x = [features, seq, features]"
      ],
      "id": "SgFCMXTQ48Gf"
    },
    {
      "cell_type": "code",
      "execution_count": 50,
      "metadata": {
        "id": "yl0O_bt-5d6N"
      },
      "outputs": [],
      "source": [
        "with open('/content/drive/MyDrive/VQA/weights/model_architecture.json', 'r') as f:\n",
        "    \t\tmodel = model_from_json(f.read())\n",
        "model.load_weights('/content/drive/MyDrive/VQA/weights/saved_model.h5')"
      ],
      "id": "yl0O_bt-5d6N"
    },
    {
      "cell_type": "code",
      "execution_count": 51,
      "metadata": {
        "id": "ooehAMPqAbAc"
      },
      "outputs": [],
      "source": [
        "features=tensorflow.reshape(features, [1,-1,4096])"
      ],
      "id": "ooehAMPqAbAc"
    },
    {
      "cell_type": "code",
      "execution_count": 52,
      "metadata": {
        "colab": {
          "base_uri": "https://localhost:8080/"
        },
        "id": "g3JJI7DV5n5I",
        "outputId": "5c9c0e2d-eb3c-4768-fc33-e0a22298001c"
      },
      "outputs": [
        {
          "output_type": "stream",
          "name": "stdout",
          "text": [
            "1/1 [==============================] - 1s 1s/step\n"
          ]
        }
      ],
      "source": [
        "probabilities = model.predict(x)[0]"
      ],
      "id": "g3JJI7DV5n5I"
    },
    {
      "cell_type": "code",
      "execution_count": 53,
      "metadata": {
        "colab": {
          "base_uri": "https://localhost:8080/"
        },
        "id": "56PgqQGXx0sa",
        "outputId": "eed4a1f5-4bd3-4575-905a-44fa177c11c5"
      },
      "outputs": [
        {
          "output_type": "execute_result",
          "data": {
            "text/plain": [
              "array([2.1996883e-01, 1.5637998e-01, 4.7545880e-02, ..., 4.8881695e-08,\n",
              "       7.7467791e-07, 1.6433164e-01], dtype=float32)"
            ]
          },
          "metadata": {},
          "execution_count": 53
        }
      ],
      "source": [
        "probabilities"
      ],
      "id": "56PgqQGXx0sa"
    },
    {
      "cell_type": "code",
      "execution_count": 54,
      "metadata": {
        "id": "UjzGRT4R5v0y"
      },
      "outputs": [],
      "source": [
        "predictions = np.argsort(probabilities[:1000])"
      ],
      "id": "UjzGRT4R5v0y"
    },
    {
      "cell_type": "code",
      "execution_count": 58,
      "metadata": {
        "id": "WroCY-xvycQ7"
      },
      "outputs": [],
      "source": [
        "df = pd.read_pickle(val_data_path)\n",
        "answers = df[['multiple_choice_answer']].values.tolist()\n",
        "freq = defaultdict(int)\n",
        "for answer in answers:\n",
        "  freq[answer[0].lower()] += 1\n",
        "int_to_answer = sorted(freq.items(),key=operator.itemgetter(1),reverse=True)[0:1000]\n",
        "int_to_answer = [answer[0] for answer in int_to_answer]"
      ],
      "id": "WroCY-xvycQ7"
    },
    {
      "cell_type": "code",
      "execution_count": 81,
      "metadata": {
        "id": "c5u9nuu3yND-"
      },
      "outputs": [],
      "source": [
        "top_answers=int_to_answer"
      ],
      "id": "c5u9nuu3yND-"
    },
    {
      "cell_type": "code",
      "execution_count": null,
      "metadata": {
        "id": "xFwwDQ-RJStR"
      },
      "outputs": [],
      "source": [
        "top_answers = [top_answers[predictions[-1]],\n",
        "top_answers[predictions[-2]],\n",
        "top_answers[predictions[-3]]]\n"
      ],
      "id": "xFwwDQ-RJStR"
    },
    {
      "cell_type": "code",
      "execution_count": 82,
      "metadata": {
        "id": "qN8Q39Y_1DL-",
        "colab": {
          "base_uri": "https://localhost:8080/"
        },
        "outputId": "07895c92-c8c1-4210-add6-0d056cbac5ed"
      },
      "outputs": [
        {
          "output_type": "stream",
          "name": "stdout",
          "text": [
            "Top answers: dog, lion, cat.\n"
          ]
        }
      ],
      "source": [
        "print('Top answers: %s, %s, %s.' % (top_answers[0],top_answers[1],top_answers[2]))"
      ],
      "id": "qN8Q39Y_1DL-"
    },
    {
      "cell_type": "code",
      "source": [],
      "metadata": {
        "id": "9kasREzJ_nAD"
      },
      "id": "9kasREzJ_nAD",
      "execution_count": null,
      "outputs": []
    }
  ],
  "metadata": {
    "accelerator": "GPU",
    "colab": {
      "machine_shape": "hm",
      "provenance": []
    },
    "gpuClass": "premium",
    "kernelspec": {
      "display_name": "Python 3",
      "language": "python",
      "name": "python3"
    },
    "language_info": {
      "codemirror_mode": {
        "name": "ipython",
        "version": 3
      },
      "file_extension": ".py",
      "mimetype": "text/x-python",
      "name": "python",
      "nbconvert_exporter": "python",
      "pygments_lexer": "ipython3",
      "version": "3.8.8"
    }
  },
  "nbformat": 4,
  "nbformat_minor": 5
}